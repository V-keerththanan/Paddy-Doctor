{
 "cells": [
  {
   "cell_type": "code",
   "execution_count": null,
   "metadata": {
    "_cell_guid": "b1076dfc-b9ad-4769-8c92-a6c4dae69d19",
    "_uuid": "8f2839f25d086af736a60e9eeb907d3b93b6e0e5",
    "execution": {
     "iopub.execute_input": "2022-08-07T05:16:52.674567Z",
     "iopub.status.busy": "2022-08-07T05:16:52.674104Z",
     "iopub.status.idle": "2022-08-07T05:16:57.380662Z",
     "shell.execute_reply": "2022-08-07T05:16:57.379654Z",
     "shell.execute_reply.started": "2022-08-07T05:16:52.674474Z"
    }
   },
   "outputs": [],
   "source": [
    "import numpy as np\n",
    "import pandas as pd\n",
    "import tensorflow as tf"
   ]
  },
  {
   "cell_type": "code",
   "execution_count": null,
   "metadata": {
    "execution": {
     "iopub.execute_input": "2022-08-07T05:16:57.383329Z",
     "iopub.status.busy": "2022-08-07T05:16:57.382705Z",
     "iopub.status.idle": "2022-08-07T05:16:57.41634Z",
     "shell.execute_reply": "2022-08-07T05:16:57.415314Z",
     "shell.execute_reply.started": "2022-08-07T05:16:57.383292Z"
    }
   },
   "outputs": [],
   "source": [
    "train = pd.read_csv('../input/paddy-disease-classification/train.csv')\n",
    "sub = pd.read_csv('../input/paddy-disease-classification/sample_submission.csv')"
   ]
  },
  {
   "cell_type": "code",
   "execution_count": null,
   "metadata": {
    "execution": {
     "iopub.execute_input": "2022-08-07T05:16:57.418281Z",
     "iopub.status.busy": "2022-08-07T05:16:57.417925Z",
     "iopub.status.idle": "2022-08-07T05:16:57.434227Z",
     "shell.execute_reply": "2022-08-07T05:16:57.433064Z",
     "shell.execute_reply.started": "2022-08-07T05:16:57.418247Z"
    }
   },
   "outputs": [],
   "source": [
    "diseases_types = sorted(list(set(train['label'])))\n",
    "diseases_types"
   ]
  },
  {
   "cell_type": "code",
   "execution_count": null,
   "metadata": {
    "execution": {
     "iopub.execute_input": "2022-08-07T05:16:57.438551Z",
     "iopub.status.busy": "2022-08-07T05:16:57.43828Z",
     "iopub.status.idle": "2022-08-07T05:17:04.484663Z",
     "shell.execute_reply": "2022-08-07T05:17:04.483622Z",
     "shell.execute_reply.started": "2022-08-07T05:16:57.438527Z"
    }
   },
   "outputs": [],
   "source": [
    "train_data= tf.keras.preprocessing.image_dataset_from_directory(\"/kaggle/input/paddy-disease-classification/train_images/\",\n",
    "                                                        labels='inferred',\n",
    "                                                        label_mode='categorical',\n",
    "                                                        class_names=diseases_types,\n",
    "                                                        color_mode='rgb',\n",
    "                                                        image_size=(680,480),\n",
    "                                                        shuffle=True,\n",
    "                                                        validation_split=0.2,\n",
    "                                                        subset='training',\n",
    "                                                        seed=42)\n",
    "\n",
    "val_data= tf.keras.preprocessing.image_dataset_from_directory(\"/kaggle/input/paddy-disease-classification/train_images/\",\n",
    "                                                        labels='inferred',\n",
    "                                                        label_mode='categorical',\n",
    "                                                        class_names=diseases_types,   \n",
    "                                                        color_mode='rgb',\n",
    "                                                        image_size=(680,480),\n",
    "                                                        shuffle=True,\n",
    "                                                        validation_split=0.2,\n",
    "                                                        subset='validation',\n",
    "                                                        seed=42)"
   ]
  },
  {
   "cell_type": "code",
   "execution_count": null,
   "metadata": {
    "execution": {
     "iopub.execute_input": "2022-08-07T05:17:04.486827Z",
     "iopub.status.busy": "2022-08-07T05:17:04.486205Z",
     "iopub.status.idle": "2022-08-07T05:17:04.496995Z",
     "shell.execute_reply": "2022-08-07T05:17:04.495756Z",
     "shell.execute_reply.started": "2022-08-07T05:17:04.486789Z"
    }
   },
   "outputs": [],
   "source": [
    "train_data"
   ]
  },
  {
   "cell_type": "code",
   "execution_count": null,
   "metadata": {
    "execution": {
     "iopub.execute_input": "2022-08-07T05:17:04.499583Z",
     "iopub.status.busy": "2022-08-07T05:17:04.499095Z",
     "iopub.status.idle": "2022-08-07T05:17:07.208772Z",
     "shell.execute_reply": "2022-08-07T05:17:07.207685Z",
     "shell.execute_reply.started": "2022-08-07T05:17:04.499535Z"
    }
   },
   "outputs": [],
   "source": [
    "\n",
    "# predict with resnet architecture\n",
    "resnet_model=tf.keras.models.Sequential()\n",
    "pretrained_model=tf.keras.applications.ResNet50(include_top=False,input_shape=(680,480,3),pooling='avg',classes=10,weights='imagenet')\n",
    "    \n",
    "for layer in pretrained_model.layers:\n",
    "    layer.trainable=False\n",
    "      \n",
    "resnet_model.add(pretrained_model)\n",
    "resnet_model.add(tf.keras.layers.Flatten())\n",
    "resnet_model.add(tf.keras.layers.Dense(512,activation='relu'))\n",
    "resnet_model.add(tf.keras.layers.Dense(99,activation='relu'))\n",
    "resnet_model.add(tf.keras.layers.Dense(10,activation='softmax'))"
   ]
  },
  {
   "cell_type": "code",
   "execution_count": null,
   "metadata": {},
   "outputs": [],
   "source": [
    "# predict with resnet architecture\n",
    "efficientnet_model=tf.keras.models.Sequential()\n",
    "pretrained_model=tf.keras.applications.efficientnet.EfficientNetB3(include_top=False,input_shape=(680,480,3),pooling='avg',classes=10,weights='imagenet')\n",
    "    \n",
    "for layer in pretrained_model.layers:\n",
    "    layer.trainable=False\n",
    "      \n",
    "efficientnet_model.add(pretrained_model)\n",
    "efficientnet_model.add(tf.keras.layers.Flatten())\n",
    "efficientnet_model.add(tf.keras.layers.Dense(512,activation='relu'))\n",
    "efficientnet_model.add(tf.keras.layers.Dense(99,activation='relu'))\n",
    "efficientnet_model.add(tf.keras.layers.Dense(10,activation='softmax'))"
   ]
  },
  {
   "cell_type": "code",
   "execution_count": null,
   "metadata": {
    "execution": {
     "iopub.execute_input": "2022-08-07T05:17:26.787117Z",
     "iopub.status.busy": "2022-08-07T05:17:26.786751Z",
     "iopub.status.idle": "2022-08-07T05:17:27.623695Z",
     "shell.execute_reply": "2022-08-07T05:17:27.622476Z",
     "shell.execute_reply.started": "2022-08-07T05:17:26.787086Z"
    }
   },
   "outputs": [],
   "source": [
    "tf.keras.utils.plot_model(efficientnet_model)"
   ]
  },
  {
   "cell_type": "code",
   "execution_count": null,
   "metadata": {
    "execution": {
     "iopub.execute_input": "2022-08-07T05:17:29.901762Z",
     "iopub.status.busy": "2022-08-07T05:17:29.900547Z",
     "iopub.status.idle": "2022-08-07T05:17:29.910736Z",
     "shell.execute_reply": "2022-08-07T05:17:29.909839Z",
     "shell.execute_reply.started": "2022-08-07T05:17:29.901712Z"
    }
   },
   "outputs": [],
   "source": [
    "val_data"
   ]
  },
  {
   "cell_type": "code",
   "execution_count": null,
   "metadata": {
    "execution": {
     "iopub.execute_input": "2022-08-07T05:17:31.278879Z",
     "iopub.status.busy": "2022-08-07T05:17:31.277983Z",
     "iopub.status.idle": "2022-08-07T06:30:24.186355Z",
     "shell.execute_reply": "2022-08-07T06:30:24.185458Z",
     "shell.execute_reply.started": "2022-08-07T05:17:31.278833Z"
    }
   },
   "outputs": [],
   "source": [
    "resnet_model.compile(optimizer='adam',loss='categorical_crossentropy',metrics=['accuracy'])\n",
    "resnet_model.fit(train_data,validation_data=val_data,epochs=25,)"
   ]
  },
  {
   "cell_type": "code",
   "execution_count": null,
   "metadata": {},
   "outputs": [],
   "source": [
    "efficientnet_model.compile(optimizer='adam',loss='categorical_crossentropy',metrics=['accuracy'])\n",
    "efficientnet_model.fit(train_data,validation_data=val_data,epochs=25)"
   ]
  },
  {
   "cell_type": "code",
   "execution_count": null,
   "metadata": {
    "execution": {
     "iopub.execute_input": "2022-08-07T06:30:24.189056Z",
     "iopub.status.busy": "2022-08-07T06:30:24.18871Z",
     "iopub.status.idle": "2022-08-07T06:30:26.662563Z",
     "shell.execute_reply": "2022-08-07T06:30:26.661469Z",
     "shell.execute_reply.started": "2022-08-07T06:30:24.189021Z"
    }
   },
   "outputs": [],
   "source": [
    "test_data=tf.keras.utils.image_dataset_from_directory(\"/kaggle/input/paddy-disease-classification/test_images/\",\n",
    "                                                        labels=None,\n",
    "                                                        label_mode=None,\n",
    "                                                        color_mode='rgb',\n",
    "                                                        image_size=(680,480),\n",
    "                                                        shuffle=False)"
   ]
  },
  {
   "cell_type": "code",
   "execution_count": null,
   "metadata": {
    "execution": {
     "iopub.execute_input": "2022-08-07T06:30:26.664706Z",
     "iopub.status.busy": "2022-08-07T06:30:26.664336Z",
     "iopub.status.idle": "2022-08-07T06:31:02.018762Z",
     "shell.execute_reply": "2022-08-07T06:31:02.017774Z",
     "shell.execute_reply.started": "2022-08-07T06:30:26.664668Z"
    }
   },
   "outputs": [],
   "source": [
    "predict_res=tf.argmax(resnet_model.predict(test_data),axis=-1)\n",
    "predict_res"
   ]
  },
  {
   "cell_type": "code",
   "execution_count": null,
   "metadata": {
    "execution": {
     "iopub.execute_input": "2022-08-07T06:31:02.022447Z",
     "iopub.status.busy": "2022-08-07T06:31:02.02166Z",
     "iopub.status.idle": "2022-08-07T06:31:03.265227Z",
     "shell.execute_reply": "2022-08-07T06:31:03.264069Z",
     "shell.execute_reply.started": "2022-08-07T06:31:02.022376Z"
    }
   },
   "outputs": [],
   "source": [
    "predictions=[]\n",
    "for i in predict_res:\n",
    "    predictions.append(diseases_types[i])"
   ]
  },
  {
   "cell_type": "code",
   "execution_count": null,
   "metadata": {
    "execution": {
     "iopub.execute_input": "2022-08-07T06:31:03.272879Z",
     "iopub.status.busy": "2022-08-07T06:31:03.270387Z",
     "iopub.status.idle": "2022-08-07T06:31:03.300362Z",
     "shell.execute_reply": "2022-08-07T06:31:03.299522Z",
     "shell.execute_reply.started": "2022-08-07T06:31:03.27284Z"
    }
   },
   "outputs": [],
   "source": [
    "sub=sub.drop(columns='label',axis=1)\n",
    "sub"
   ]
  },
  {
   "cell_type": "code",
   "execution_count": null,
   "metadata": {
    "execution": {
     "iopub.execute_input": "2022-08-07T06:31:03.3068Z",
     "iopub.status.busy": "2022-08-07T06:31:03.304518Z",
     "iopub.status.idle": "2022-08-07T06:31:03.323563Z",
     "shell.execute_reply": "2022-08-07T06:31:03.322737Z",
     "shell.execute_reply.started": "2022-08-07T06:31:03.306765Z"
    }
   },
   "outputs": [],
   "source": [
    "sub"
   ]
  },
  {
   "cell_type": "code",
   "execution_count": null,
   "metadata": {
    "execution": {
     "iopub.execute_input": "2022-08-07T06:31:03.330326Z",
     "iopub.status.busy": "2022-08-07T06:31:03.327977Z",
     "iopub.status.idle": "2022-08-07T06:31:03.337801Z",
     "shell.execute_reply": "2022-08-07T06:31:03.336802Z",
     "shell.execute_reply.started": "2022-08-07T06:31:03.330292Z"
    }
   },
   "outputs": [],
   "source": [
    "submission=pd.DataFrame({'image_id':sub['image_id'],'label':predictions})"
   ]
  },
  {
   "cell_type": "code",
   "execution_count": null,
   "metadata": {
    "execution": {
     "iopub.execute_input": "2022-08-07T06:31:03.344981Z",
     "iopub.status.busy": "2022-08-07T06:31:03.342728Z",
     "iopub.status.idle": "2022-08-07T06:31:03.362058Z",
     "shell.execute_reply": "2022-08-07T06:31:03.361247Z",
     "shell.execute_reply.started": "2022-08-07T06:31:03.344945Z"
    }
   },
   "outputs": [],
   "source": [
    "submission.to_csv('paddy_docto2.csv',index=None)"
   ]
  }
 ],
 "metadata": {
  "kernelspec": {
   "display_name": "Python 3.10.6 ('ENV': venv)",
   "language": "python",
   "name": "python3"
  },
  "language_info": {
   "codemirror_mode": {
    "name": "ipython",
    "version": 3
   },
   "file_extension": ".py",
   "mimetype": "text/x-python",
   "name": "python",
   "nbconvert_exporter": "python",
   "pygments_lexer": "ipython3",
   "version": "3.10.6"
  },
  "vscode": {
   "interpreter": {
    "hash": "ed5d17ba5cf4a2209627b0c16e6278c1ac57716aa55965d193868d4eb510be91"
   }
  }
 },
 "nbformat": 4,
 "nbformat_minor": 4
}
